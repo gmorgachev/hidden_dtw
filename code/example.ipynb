{
 "cells": [
  {
   "cell_type": "code",
   "execution_count": 34,
   "metadata": {},
   "outputs": [],
   "source": [
    "import numpy as np\n",
    "import pandas as pd\n",
    "import matplotlib.pyplot as plt\n",
    "import torch\n",
    "\n",
    "from dtaidistance import dtw, dtw_c, dtw_ndim\n",
    "from numpy.random import choice, shuffle\n",
    "from torch import nn\n",
    "from sklearn.model_selection import train_test_split\n",
    "from scipy.stats import zscore\n",
    "\n",
    "from torch.utils.data import DataLoader, TensorDataset, random_split"
   ]
  },
  {
   "cell_type": "code",
   "execution_count": 35,
   "metadata": {},
   "outputs": [
    {
     "name": "stdout",
     "output_type": "stream",
     "text": [
      "The autoreload extension is already loaded. To reload it, use:\n",
      "  %reload_ext autoreload\n"
     ]
    }
   ],
   "source": [
    "%load_ext autoreload\n",
    "%autoreload 1\n",
    "\n",
    "from preprocessing import *\n",
    "from models import Encoder, Decoder, Sequence2Sequence\n",
    "\n",
    "%aimport preprocessing\n",
    "%aimport models"
   ]
  },
  {
   "cell_type": "markdown",
   "metadata": {},
   "source": [
    "# Example of multidimensional time-series"
   ]
  },
  {
   "cell_type": "code",
   "execution_count": 36,
   "metadata": {},
   "outputs": [],
   "source": [
    "# !mkdir -p data\n",
    "# !wget https://www.cs.ucr.edu/%7Eeamonn/time_series_data_2018/UCRArchive_2018.zip ../data\n",
    "# !unzip data/UCRArchive_2018.zip -d ../data"
   ]
  },
  {
   "cell_type": "code",
   "execution_count": 37,
   "metadata": {},
   "outputs": [],
   "source": [
    "# data_path = \"../data/UCRArchive_2018/Earthquakes/Earthquakes_TRAIN.tsv\""
   ]
  },
  {
   "cell_type": "code",
   "execution_count": 38,
   "metadata": {},
   "outputs": [],
   "source": [
    "# data = pd.read_csv(data_path, header=None, delimiter=\"\\t\").values\n",
    "\n",
    "# # to remove Nan (only first columns)\n",
    "# data = data[:, ~np.isnan(data).any(0)]\n",
    "\n",
    "# X = data[:, 1:]\n",
    "# y = data[:, 0].astype(np.short)"
   ]
  },
  {
   "cell_type": "markdown",
   "metadata": {},
   "source": [
    "# B_Accelerometer preprocessing\n",
    "\n",
    "[Link](https://github.com/mmalekzadeh/motion-sense/blob/master/data/B_Accelerometer_data.zip \"\")"
   ]
  },
  {
   "cell_type": "code",
   "execution_count": 39,
   "metadata": {},
   "outputs": [],
   "source": [
    "import os\n",
    "\n",
    "def get_dataset_2(length):\n",
    "    LABELS = [0, 1, 4, 5]\n",
    "\n",
    "    labels = np.unique([x[:3] for x in os.listdir(\"../data/B_Accelerometer_data/\")])\n",
    "    dirs = os.listdir(\"../data/B_Accelerometer_data/\")\n",
    "    d = dict((label, i) for (i, label) in enumerate(labels))\n",
    "\n",
    "    timeseries = {label: [] for label in d.values()}\n",
    "\n",
    "    for dir_name in dirs:\n",
    "        tmp = []\n",
    "        for f in os.listdir(\"../data/B_Accelerometer_data/{}\".format(dir_name)):\n",
    "            data = pd.read_csv(\"../data/B_Accelerometer_data/{}/{}\".format(dir_name, f), index_col=0)\n",
    "\n",
    "            tmp.append(np.linalg.norm(data, axis=1))\n",
    "\n",
    "        timeseries[d[dir_name[:3]]] = zscore(np.hstack(tmp))\n",
    "\n",
    "    dataset = {label: [] for label in LABELS}\n",
    "    for label in LABELS:\n",
    "        X = timeseries[label][np.newaxis].T\n",
    "        dataset[label].extend(slice_timeseries(X, length))\n",
    "\n",
    "\n",
    "    max_count = min([len(x) for x in dataset.values()])\n",
    "    for label, ts in dataset.items():\n",
    "        dataset[label] = [ts[idx] for idx in choice(range(len(ts)), max_count, replace=False)]\n",
    "\n",
    "    X = np.array([zscore(x) for _, ts in dataset.items() for x in ts])\n",
    "    y = [np.repeat(label, len(ts)) for label, ts in dataset.items()]\n",
    "    X = np.hstack(X).T\n",
    "    y = np.hstack(y).T\n",
    "    \n",
    "    return X, y"
   ]
  },
  {
   "cell_type": "code",
   "execution_count": 40,
   "metadata": {},
   "outputs": [],
   "source": [
    "# fig, axs = plt.subplots(len(LABELS), figsize=(10, 15))\n",
    "\n",
    "# for i, label in enumerate(LABELS):\n",
    "#     axs[i].plot(dataset[label][10])"
   ]
  },
  {
   "cell_type": "markdown",
   "metadata": {},
   "source": [
    "# Accelerometer dataset \n",
    "\n",
    "- 1: Working at Computer\n",
    "- 2: Standing Up, Walking and Going up\\down stairs\n",
    "- 3: Standing\n",
    "- 4: Walking\n",
    "- 5: Going Up\\Down Stairs\n",
    "- 6: Walking and Talking with Someone\n",
    "- 7: Talking while Standing"
   ]
  },
  {
   "cell_type": "code",
   "execution_count": 41,
   "metadata": {},
   "outputs": [],
   "source": [
    "# !wget https://archive.ics.uci.edu/ml/machine-learning-databases/00287/Activity%20Recognition%20from%20Single%20Chest-Mounted%20Accelerometer.zip -O ../data/Accelerometer.zip\n",
    "# ! unzip ../data/Accelerometer.zip -d ./data"
   ]
  },
  {
   "cell_type": "code",
   "execution_count": 42,
   "metadata": {},
   "outputs": [],
   "source": [
    "CHANNELS = ['0', '1', '2']\n",
    "LABELS = [1, 3, 4, 5]\n",
    "\n",
    "LENGTH = 100\n",
    "start_ident = 200"
   ]
  },
  {
   "cell_type": "code",
   "execution_count": 43,
   "metadata": {},
   "outputs": [],
   "source": [
    "def get_dataset_3():\n",
    "    np.random.seed(0)\n",
    "\n",
    "\n",
    "    dataset = {label: [] for label in LABELS}\n",
    "\n",
    "    for i in range(1, 11):\n",
    "        data_path = \"../data/Activity Recognition from Single Chest-Mounted Accelerometer/{0}.csv\".format(i)\n",
    "        data = pd.read_csv(data_path,\n",
    "                       names=['0', '1', '2', \"labels\"],\n",
    "                       index_col=0,\n",
    "                       dtype=np.float)\n",
    "\n",
    "        for label in LABELS:\n",
    "            X = get_class_timeseries(label, data, start_ident)\n",
    "            X = np.linalg.norm(X, axis=1)[np.newaxis].T\n",
    "            dataset[label].extend(slice_timeseries(X, LENGTH))\n",
    "\n",
    "    max_count = min([len(x) for x in dataset.values()])\n",
    "    for label, ts in dataset.items():\n",
    "        dataset[label] = [ts[idx] for idx in choice(range(len(ts)), max_count, replace=False)]\n",
    "\n",
    "    X = np.array([zscore(x) for _, ts in dataset.items() for x in ts])\n",
    "    y = [np.repeat(label, len(ts)) for label, ts in dataset.items()]\n",
    "    X = np.hstack(X).T\n",
    "    y = np.hstack(y).T\n",
    "    \n",
    "    return X, y"
   ]
  },
  {
   "cell_type": "markdown",
   "metadata": {},
   "source": [
    "# Experiment"
   ]
  },
  {
   "cell_type": "code",
   "execution_count": 45,
   "metadata": {},
   "outputs": [],
   "source": [
    "device = torch.device(\"cuda\")\n",
    "\n",
    "def prepare_data(X, y, k, w):\n",
    "    ds = SplittedDataset(X, y, k, w, device=device)\n",
    "    train_ds, test_ds, valid_ds = train_test_valid_split(ds, 0.3, 0.2)\n",
    "\n",
    "    train_set = DataLoader(train_ds, batch_size=1024, shuffle=True)\n",
    "    test_set = DataLoader(test_ds, batch_size=1024, shuffle=True)\n",
    "    valid_set = DataLoader(valid_ds, batch_size=256, shuffle=True)\n",
    "    \n",
    "    return train_set, test_set, valid_set"
   ]
  },
  {
   "cell_type": "code",
   "execution_count": 46,
   "metadata": {},
   "outputs": [],
   "source": [
    "from models import Encoder, Decoder, Sequence2Sequence\n",
    "\n",
    "input_dim = 2*k\n",
    "hidden_dim = 10\n",
    "n_layers = 5\n",
    "\n",
    "def get_model(hidden_dim, k, n_layers):\n",
    "    input_dim = 2*k\n",
    "    enc = Encoder(input_dim, hidden_dim, 1, n_layers, False)\n",
    "    dec = Decoder(hidden_dim, input_dim, 1, n_layers)\n",
    "\n",
    "    model = Sequence2Sequence(enc, dec)\n",
    "    model.to(device)\n",
    "    \n",
    "    return model"
   ]
  },
  {
   "cell_type": "code",
   "execution_count": null,
   "metadata": {},
   "outputs": [],
   "source": [
    "loss_fn = nn.MSELoss()\n",
    "optim = torch.optim.Adam(model.parameters())"
   ]
  },
  {
   "cell_type": "code",
   "execution_count": 60,
   "metadata": {},
   "outputs": [],
   "source": [
    "def train(model, train_ds, optim, valid_ds, n_step):\n",
    "    model.train()\n",
    "    for step in range(n_step):\n",
    "        it = iter(train_ds)\n",
    "        for batch, _, _ in it:\n",
    "            batch = batch.permute(1, 0, 2)\n",
    "            optim.zero_grad()\n",
    "            out = model(batch)\n",
    "            loss = loss_fn(batch, out)\n",
    "\n",
    "            if step % 500 == 0:\n",
    "                print(\"Loss: {:.3f}\".format(loss.cpu().detach().numpy()))\n",
    "\n",
    "            loss.backward()\n",
    "            optim.step()\n",
    "\n",
    "            if step % 1000 == 0:\n",
    "                valid(model, valid_ds)\n",
    "                model.train()\n",
    "\n",
    "def valid(model, valid_ds):\n",
    "    model.eval()\n",
    "    with torch.no_grad():\n",
    "        loss = 0.\n",
    "        it = iter(valid_ds)\n",
    "        for batch, _, _ in it:\n",
    "            batch = batch.permute(1, 0, 2)\n",
    "            out = model(batch)\n",
    "            loss += loss_fn(batch, out)\n",
    "    \n",
    "    print(\"Valid loss: {:.3f}\".format(loss.cpu().detach().numpy()))"
   ]
  },
  {
   "cell_type": "code",
   "execution_count": 54,
   "metadata": {},
   "outputs": [],
   "source": [
    "# model.load_state_dict(torch.load(\"../data/pretrained.pcl\"))"
   ]
  },
  {
   "cell_type": "code",
   "execution_count": 88,
   "metadata": {},
   "outputs": [],
   "source": [
    "from time import time\n",
    "from sklearn.neighbors import KNeighborsClassifier\n",
    "\n",
    "def m(id1, id2, matrix):\n",
    "    x, y = int(min(id1[0], id2[0])), int(max(id1[0], id2[0]))\n",
    "    return matrix[x, y]\n",
    "\n",
    "def get_metric(matrix):\n",
    "    return lambda id1, id2: m(id1, id2, matrix)\n",
    "\n",
    "def workflow(w, k, hidden_dim, n_layers, length, n_step=6000):\n",
    "    X, y = get_dataset_2(length)\n",
    "    train_set, test_set, valid_set = prepare_data(X, y, k, w)\n",
    "    model = get_model(hidden_dim, k, n_layers)\n",
    "    loss_fn = nn.MSELoss()\n",
    "    optim = torch.optim.Adam(model.parameters())\n",
    "    train(model, train_set, optim, test_set, n_step)\n",
    "    torch.save(model.state_dict(), \"../data/w={};k={};nl={};length={}\".format(w, k, n_layers, length))\n",
    "    valid(model, test_set)\n",
    "    valid_it = iter(valid_set)\n",
    "    batch, timeseries, labels = next(valid_it)\n",
    "    timeseries = timeseries.numpy()\n",
    "\n",
    "    scores_ts = []\n",
    "    scores_hidden = []\n",
    "\n",
    "    t = time()\n",
    "    matrix_ts = dtw.distance_matrix(timeseries, use_c=True)\n",
    "    print(\"raw_ts: {:.3f}\".format(time() - t))\n",
    "    t = time()\n",
    "    hiddens = model.encoder(batch.permute(1, 0, 2))[0].permute(1, 0, 2).detach().cpu().numpy()\n",
    "    matrix_hidden = dtw_ndim.distance_matrix(hiddens)\n",
    "    print(\"hidden_ts: {:.3f}\".format(time() - t))\n",
    "    idxs = np.arange(len(timeseries)).reshape(-1, 1)\n",
    "\n",
    "    for i in range(100):\n",
    "        X_train, X_test, y_train, y_test = train_test_split(idxs, labels.cpu().numpy(), test_size=0.4)\n",
    "\n",
    "        clf = KNeighborsClassifier(metric=get_metric(matrix_ts), algorithm=\"brute\")\n",
    "        clf.fit(X_train, y_train)\n",
    "        score = clf.score(X_test, y_test)\n",
    "        scores_ts.append(score)\n",
    "        clf = KNeighborsClassifier(metric=get_metric(matrix_hidden), algorithm=\"brute\")\n",
    "        clf.fit(X_train, y_train)\n",
    "        score = clf.score(X_test, y_test)\n",
    "        scores_hidden.append(score)\n",
    "\n",
    "    print(\"{:.3f}\".format(np.mean(scores_ts)))    \n",
    "    print(\"{:.3f}\".format(np.mean(scores_hidden)))"
   ]
  },
  {
   "cell_type": "code",
   "execution_count": null,
   "metadata": {},
   "outputs": [],
   "source": [
    "LENGTHS = [100]\n",
    "W = [3, 5, 7]\n",
    "K = [3, 5, 7]\n",
    "HIDDEN_DIM = [4, 6]\n",
    "N_LAYERS = [1, 2, 4]\n",
    "\n",
    "for w in W:\n",
    "    for k in K:\n",
    "        for length in LENGTHS:\n",
    "            for hidden_dim in HIDDEN_DIM:\n",
    "                for n_layers in N_LAYERS:\n",
    "                    print(\"{:#^80}\".format(\" w={}; k={}; hidden={}; nl={} \".format(w, k, hidden_dim, n_layers)))\n",
    "                    workflow(w, k, hidden_dim, n_layers, length, 2000)"
   ]
  },
  {
   "cell_type": "markdown",
   "metadata": {},
   "source": [
    "# See decodered peaces of timeseries"
   ]
  },
  {
   "cell_type": "code",
   "execution_count": 95,
   "metadata": {},
   "outputs": [],
   "source": [
    "id0 = 5\n",
    "id1 = 5\n",
    "w = 3\n",
    "k = 5\n",
    "hidden_dim = 6\n",
    "length = 100\n",
    "X, y = get_dataset_2(length)\n",
    "n_layers = 1\n",
    "train_set, test_set, valid_set = prepare_data(X, y, k, w)\n",
    "model = get_model(hidden_dim, k, n_layers)\n",
    "valid_it = iter(valid_set)\n",
    "batch, timeseries, labels = next(valid_it)\n",
    "timeseries = timeseries.numpy()\n",
    "model.load_state_dict(torch.load(\"../data/w={};k={};nl={};length={}\".format(w, k, n_layers, length)))\n",
    "\n",
    "x_out = model(batch.permute(1, 0, 2)).permute(1, 0, 2).cpu().detach().numpy()"
   ]
  },
  {
   "cell_type": "code",
   "execution_count": 96,
   "metadata": {},
   "outputs": [
    {
     "data": {
      "text/plain": [
       "[<matplotlib.lines.Line2D at 0x2137c183848>]"
      ]
     },
     "execution_count": 96,
     "metadata": {},
     "output_type": "execute_result"
    },
    {
     "data": {
      "image/png": "[encoded data removed]",
      "text/plain": [
       "<Figure size 432x288 with 1 Axes>"
      ]
     },
     "metadata": {
      "needs_background": "light"
     },
     "output_type": "display_data"
    }
   ],
   "source": [
    "plt.plot(batch[id0, id1].cpu())"
   ]
  },
  {
   "cell_type": "code",
   "execution_count": 97,
   "metadata": {},
   "outputs": [
    {
     "data": {
      "text/plain": [
       "[<matplotlib.lines.Line2D at 0x2131b305748>]"
      ]
     },
     "execution_count": 97,
     "metadata": {},
     "output_type": "execute_result"
    },
    {
     "data": {
      "image/png": "[encoded data removed]",
      "text/plain": [
       "<Figure size 432x288 with 1 Axes>"
      ]
     },
     "metadata": {
      "needs_background": "light"
     },
     "output_type": "display_data"
    }
   ],
   "source": [
    "plt.plot(x_out[id0, id1])"
   ]
  },
  {
   "cell_type": "markdown",
   "metadata": {},
   "source": [
    "## Classification on raw time-series"
   ]
  },
  {
   "cell_type": "code",
   "execution_count": null,
   "metadata": {},
   "outputs": [],
   "source": [
    "%%time\n",
    "matrix_ts = dtw.distance_matrix(timeseries, use_c=True)"
   ]
  },
  {
   "cell_type": "code",
   "execution_count": null,
   "metadata": {},
   "outputs": [],
   "source": [
    "clf = KNeighborsClassifier(metric=get_metric(matrix_ts), algorithm=\"brute\")\n",
    "clf.fit(X_train, y_train)\n",
    "score = clf.score(X_test, y_test)\n",
    "score"
   ]
  },
  {
   "cell_type": "markdown",
   "metadata": {},
   "source": [
    "## Hidden states classification"
   ]
  },
  {
   "cell_type": "code",
   "execution_count": null,
   "metadata": {},
   "outputs": [],
   "source": [
    "%%time\n",
    "hiddens = model.encoder(batch.permute(1, 0, 2))[0].permute(1, 0, 2).detach().cpu().numpy()\n",
    "matrix_hidden = dtw_ndim.distance_matrix(hiddens)"
   ]
  },
  {
   "cell_type": "code",
   "execution_count": null,
   "metadata": {},
   "outputs": [],
   "source": [
    "clf = KNeighborsClassifier(metric=get_metric(matrix_hidden), algorithm=\"brute\")\n",
    "clf.fit(X_train, y_train)\n",
    "score = clf.score(X_test, y_test)\n",
    "score"
   ]
  },
  {
   "cell_type": "markdown",
   "metadata": {},
   "source": [
    "# Statistic"
   ]
  },
  {
   "cell_type": "code",
   "execution_count": null,
   "metadata": {},
   "outputs": [],
   "source": [
    "scores_ts = []\n",
    "scores_hidden = []\n",
    "\n",
    "for i in range(1000):\n",
    "    X_train, X_test, y_train, y_test = train_test_split(idxs, labels.cpu().numpy(), test_size=0.3)\n",
    "\n",
    "    clf = KNeighborsClassifier(metric=get_metric(matrix_ts), algorithm=\"brute\")\n",
    "    clf.fit(X_train, y_train)\n",
    "    score = clf.score(X_test, y_test)\n",
    "    scores_ts.append(score)\n",
    "    clf = KNeighborsClassifier(metric=get_metric(matrix_hidden), algorithm=\"brute\")\n",
    "    clf.fit(X_train, y_train)\n",
    "    score = clf.score(X_test, y_test)\n",
    "    scores_hidden.append(score)\n",
    "    \n",
    "print(\"{:.3f}\".format(np.mean(scores_ts)))    \n",
    "print(\"{:.3f}\".format(np.mean(scores_hidden)))"
   ]
  }
 ],
 "metadata": {
  "kernelspec": {
   "display_name": "hidden_dtw",
   "language": "python",
   "name": "hidden_dtw"
  },
  "language_info": {
   "codemirror_mode": {
    "name": "ipython",
    "version": 3
   },
   "file_extension": ".py",
   "mimetype": "text/x-python",
   "name": "python",
   "nbconvert_exporter": "python",
   "pygments_lexer": "ipython3",
   "version": "3.7.5"
  }
 },
 "nbformat": 4,
 "nbformat_minor": 4
}
