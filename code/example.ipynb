{
 "cells": [
  {
   "cell_type": "code",
   "execution_count": 1,
   "metadata": {},
   "outputs": [],
   "source": [
    "import numpy as np\n",
    "import pandas as pd\n",
    "import matplotlib.pyplot as plt\n",
    "import torch\n",
    "\n",
    "from dtaidistance import dtw, dtw_c, dtw_ndim\n",
    "from numpy.random import choice, shuffle\n",
    "from torch import nn\n",
    "from sklearn.model_selection import train_test_split\n",
    "from scipy.stats import zscore\n",
    "\n",
    "from torch.utils.data import DataLoader, TensorDataset, random_split"
   ]
  },
  {
   "cell_type": "code",
   "execution_count": 2,
   "metadata": {},
   "outputs": [],
   "source": [
    "%load_ext autoreload\n",
    "%autoreload 1\n",
    "\n",
    "from preprocessing import *\n",
    "from models import Encoder, Decoder, Sequence2Sequence\n",
    "\n",
    "%aimport preprocessing\n",
    "%aimport models"
   ]
  },
  {
   "cell_type": "markdown",
   "metadata": {},
   "source": [
    "# Example of multidimensional time-series"
   ]
  },
  {
   "cell_type": "code",
   "execution_count": 3,
   "metadata": {},
   "outputs": [],
   "source": [
    "# !mkdir -p data\n",
    "# !wget https://www.cs.ucr.edu/%7Eeamonn/time_series_data_2018/UCRArchive_2018.zip ../data\n",
    "# !unzip data/UCRArchive_2018.zip -d ../data"
   ]
  },
  {
   "cell_type": "code",
   "execution_count": 4,
   "metadata": {},
   "outputs": [],
   "source": [
    "# data_path = \"../data/UCRArchive_2018/Earthquakes/Earthquakes_TRAIN.tsv\""
   ]
  },
  {
   "cell_type": "code",
   "execution_count": 5,
   "metadata": {},
   "outputs": [],
   "source": [
    "# data = pd.read_csv(data_path, header=None, delimiter=\"\\t\").values\n",
    "\n",
    "# # to remove Nan (only first columns)\n",
    "# data = data[:, ~np.isnan(data).any(0)]\n",
    "\n",
    "# X = data[:, 1:]\n",
    "# y = data[:, 0].astype(np.short)"
   ]
  },
  {
   "cell_type": "markdown",
   "metadata": {},
   "source": [
    "# B_Accelerometer preprocessing\n",
    "\n",
    "[Link](https://github.com/mmalekzadeh/motion-sense/blob/master/data/B_Accelerometer_data.zip \"\")"
   ]
  },
  {
   "cell_type": "code",
   "execution_count": 254,
   "metadata": {},
   "outputs": [],
   "source": [
    "import os\n",
    "\n",
    "SAMPLE_SIZE = 200\n",
    "LABELS = [0, 1, 4, 5]\n",
    "LENGTH = 100\n",
    "\n",
    "\n",
    "labels = np.unique([x[:3] for x in os.listdir(\"../data/B_Accelerometer_data/\")])\n",
    "dirs = os.listdir(\"../data/B_Accelerometer_data/\")\n",
    "d = dict((label, i) for (i, label) in enumerate(labels))\n",
    "\n",
    "timeseries = {label: [] for label in d.values()}\n",
    "\n",
    "for dir_name in dirs:\n",
    "    tmp = []\n",
    "    for f in os.listdir(\"../data/B_Accelerometer_data/{}\".format(dir_name)):\n",
    "        data = pd.read_csv(\"../data/B_Accelerometer_data/{}/{}\".format(dir_name, f), index_col=0)\n",
    "\n",
    "        tmp.append(np.linalg.norm(data, axis=1))\n",
    "        \n",
    "    timeseries[d[dir_name[:3]]] = zscore(np.hstack(tmp))\n",
    "\n",
    "dataset = {label: [] for label in LABELS}\n",
    "for label in LABELS:\n",
    "    X = timeseries[label][np.newaxis].T\n",
    "    dataset[label].extend(slice_timeseries(X, LENGTH))\n",
    "    \n",
    "    \n",
    "max_count = min([len(x) for x in dataset.values()])\n",
    "for label, ts in dataset.items():\n",
    "    dataset[label] = [ts[idx] for idx in choice(range(len(ts)), max_count, replace=False)]\n",
    "    \n",
    "X = np.array([zscore(x) for _, ts in dataset.items() for x in ts])\n",
    "y = [np.repeat(label, len(ts)) for label, ts in dataset.items()]\n",
    "X = np.hstack(X).T\n",
    "y = np.hstack(y).T"
   ]
  },
  {
   "cell_type": "code",
   "execution_count": 112,
   "metadata": {},
   "outputs": [],
   "source": [
    "# fig, axs = plt.subplots(len(LABELS), figsize=(10, 15))\n",
    "\n",
    "# for i, label in enumerate(LABELS):\n",
    "#     axs[i].plot(dataset[label][10])"
   ]
  },
  {
   "cell_type": "markdown",
   "metadata": {},
   "source": [
    "# Accelerometer dataset \n",
    "\n",
    "- 1: Working at Computer\n",
    "- 2: Standing Up, Walking and Going up\\down stairs\n",
    "- 3: Standing\n",
    "- 4: Walking\n",
    "- 5: Going Up\\Down Stairs\n",
    "- 6: Walking and Talking with Someone\n",
    "- 7: Talking while Standing"
   ]
  },
  {
   "cell_type": "code",
   "execution_count": 110,
   "metadata": {},
   "outputs": [],
   "source": [
    "# !wget https://archive.ics.uci.edu/ml/machine-learning-databases/00287/Activity%20Recognition%20from%20Single%20Chest-Mounted%20Accelerometer.zip -O ../data/Accelerometer.zip\n",
    "# ! unzip ../data/Accelerometer.zip -d ./data"
   ]
  },
  {
   "cell_type": "code",
   "execution_count": 67,
   "metadata": {},
   "outputs": [],
   "source": [
    "CHANNELS = ['0', '1', '2']\n",
    "LABELS = [1, 3, 4, 5]\n",
    "LENGTH = 100\n",
    "start_ident = 200"
   ]
  },
  {
   "cell_type": "code",
   "execution_count": 316,
   "metadata": {},
   "outputs": [],
   "source": [
    "def get_dataset_3():\n",
    "    np.random.seed(0)\n",
    "\n",
    "\n",
    "    dataset = {label: [] for label in LABELS}\n",
    "\n",
    "    for i in range(1, 11):\n",
    "        data_path = \"../data/Activity Recognition from Single Chest-Mounted Accelerometer/{0}.csv\".format(i)\n",
    "        data = pd.read_csv(data_path,\n",
    "                       names=['0', '1', '2', \"labels\"],\n",
    "                       index_col=0,\n",
    "                       dtype=np.float)\n",
    "\n",
    "        for label in LABELS:\n",
    "            X = get_class_timeseries(label, data, start_ident)\n",
    "            X = np.linalg.norm(X, axis=1)[np.newaxis].T\n",
    "            dataset[label].extend(slice_timeseries(X, LENGTH))\n",
    "\n",
    "    max_count = min([len(x) for x in dataset.values()])\n",
    "    for label, ts in dataset.items():\n",
    "        dataset[label] = [ts[idx] for idx in choice(range(len(ts)), max_count, replace=False)]\n",
    "\n",
    "    X = np.array([zscore(x) for _, ts in dataset.items() for x in ts])\n",
    "    y = [np.repeat(label, len(ts)) for label, ts in dataset.items()]\n",
    "    X = np.hstack(X).T\n",
    "    y = np.hstack(y).T\n",
    "    \n",
    "    return X, y"
   ]
  },
  {
   "cell_type": "markdown",
   "metadata": {},
   "source": [
    "# Experiment"
   ]
  },
  {
   "cell_type": "code",
   "execution_count": 255,
   "metadata": {},
   "outputs": [
    {
     "data": {
      "text/plain": [
       "2405"
      ]
     },
     "execution_count": 255,
     "metadata": {},
     "output_type": "execute_result"
    }
   ],
   "source": [
    "len(train_ds)"
   ]
  },
  {
   "cell_type": "code",
   "execution_count": 256,
   "metadata": {},
   "outputs": [
    {
     "data": {
      "text/plain": [
       "961"
      ]
     },
     "execution_count": 256,
     "metadata": {},
     "output_type": "execute_result"
    }
   ],
   "source": [
    "len(valid_ds)"
   ]
  },
  {
   "cell_type": "code",
   "execution_count": 257,
   "metadata": {},
   "outputs": [],
   "source": [
    "k=7\n",
    "w=5"
   ]
  },
  {
   "cell_type": "code",
   "execution_count": 258,
   "metadata": {},
   "outputs": [],
   "source": [
    "device = torch.device(\"cuda\")\n",
    "\n",
    "ds = SplittedDataset(X, y, k, w, device=device)\n",
    "train_ds, test_ds, valid_ds = train_test_valid_split(ds, 0.3, 0.2)\n",
    "\n",
    "train_set = DataLoader(train_ds, batch_size=1024, shuffle=True)\n",
    "test_set = DataLoader(test_ds, batch_size=1024, shuffle=True)\n",
    "valid_set = DataLoader(valid_ds, batch_size=400, shuffle=True)"
   ]
  },
  {
   "cell_type": "code",
   "execution_count": 317,
   "metadata": {},
   "outputs": [],
   "source": [
    "from models import Encoder, Decoder, Sequence2Sequence\n",
    "\n",
    "input_dim = 2*k\n",
    "hidden_dim = 6\n",
    "n_layers = 5\n",
    "\n",
    "enc = Encoder(input_dim, hidden_dim, 1, n_layers, False)\n",
    "dec = Decoder(hidden_dim, input_dim, 1, n_layers)"
   ]
  },
  {
   "cell_type": "code",
   "execution_count": 318,
   "metadata": {},
   "outputs": [
    {
     "data": {
      "text/plain": [
       "Sequence2Sequence(\n",
       "  (encoder): Encoder(\n",
       "    (lstm): LSTM(14, 6, num_layers=5)\n",
       "  )\n",
       "  (decoder): Decoder(\n",
       "    (lstm): LSTM(6, 14, num_layers=5)\n",
       "  )\n",
       ")"
      ]
     },
     "execution_count": 318,
     "metadata": {},
     "output_type": "execute_result"
    }
   ],
   "source": [
    "model = Sequence2Sequence(enc, dec)\n",
    "model.to(device)"
   ]
  },
  {
   "cell_type": "code",
   "execution_count": 319,
   "metadata": {},
   "outputs": [],
   "source": [
    "loss_fn = nn.MSELoss()\n",
    "optim = torch.optim.Adam(model.parameters())"
   ]
  },
  {
   "cell_type": "code",
   "execution_count": 320,
   "metadata": {},
   "outputs": [],
   "source": [
    "def train(model, train_ds, optim, valid_ds):\n",
    "    model.train()\n",
    "    for step in range(N_STEP):\n",
    "        it = iter(train_ds)\n",
    "        for batch, _, _ in it:\n",
    "            batch = batch.permute(1, 0, 2)\n",
    "            optim.zero_grad()\n",
    "            out = model(batch)\n",
    "            loss = loss_fn(batch, out)\n",
    "\n",
    "            if step % 100 == 0:\n",
    "                print(\"Loss:\", loss)\n",
    "\n",
    "            loss.backward()\n",
    "            optim.step()\n",
    "\n",
    "            if step % 500 == 0:\n",
    "                valid(model, valid_ds)\n",
    "                model.train()\n",
    "\n",
    "def valid(model, valid_ds):\n",
    "    model.eval()\n",
    "    with torch.no_grad():\n",
    "        loss = 0.\n",
    "        it = iter(valid_ds)\n",
    "        for batch, _, _ in it:\n",
    "            batch = batch.permute(1, 0, 2)\n",
    "            out = model(batch)\n",
    "            loss += loss_fn(batch, out)\n",
    "    \n",
    "    print(\"Valid loss:\", loss)"
   ]
  },
  {
   "cell_type": "code",
   "execution_count": 321,
   "metadata": {},
   "outputs": [],
   "source": [
    "# model.load_state_dict(torch.load(\"../data/pretrained.pcl\"))"
   ]
  },
  {
   "cell_type": "code",
   "execution_count": 322,
   "metadata": {},
   "outputs": [
    {
     "name": "stdout",
     "output_type": "stream",
     "text": [
      "Loss: tensor(1.0151, device='cuda:0', grad_fn=<MeanBackward0>)\n",
      "Valid loss: tensor(1.0185, device='cuda:0')\n",
      "Loss: tensor(1.0094, device='cuda:0', grad_fn=<MeanBackward0>)\n",
      "Valid loss: tensor(1.0179, device='cuda:0')\n",
      "Loss: tensor(1.0009, device='cuda:0', grad_fn=<MeanBackward0>)\n",
      "Loss: tensor(1.0019, device='cuda:0', grad_fn=<MeanBackward0>)\n",
      "Loss: tensor(1.0009, device='cuda:0', grad_fn=<MeanBackward0>)\n",
      "Loss: tensor(1.0015, device='cuda:0', grad_fn=<MeanBackward0>)\n",
      "Loss: tensor(0.9939, device='cuda:0', grad_fn=<MeanBackward0>)\n",
      "Loss: tensor(0.9998, device='cuda:0', grad_fn=<MeanBackward0>)\n",
      "Loss: tensor(0.5515, device='cuda:0', grad_fn=<MeanBackward0>)\n",
      "Loss: tensor(0.5571, device='cuda:0', grad_fn=<MeanBackward0>)\n",
      "Loss: tensor(0.4980, device='cuda:0', grad_fn=<MeanBackward0>)\n",
      "Valid loss: tensor(0.5157, device='cuda:0')\n",
      "Loss: tensor(0.5138, device='cuda:0', grad_fn=<MeanBackward0>)\n",
      "Valid loss: tensor(0.5157, device='cuda:0')\n",
      "Loss: tensor(0.4821, device='cuda:0', grad_fn=<MeanBackward0>)\n",
      "Loss: tensor(0.5001, device='cuda:0', grad_fn=<MeanBackward0>)\n",
      "Loss: tensor(0.4752, device='cuda:0', grad_fn=<MeanBackward0>)\n",
      "Loss: tensor(0.4762, device='cuda:0', grad_fn=<MeanBackward0>)\n",
      "Loss: tensor(0.4674, device='cuda:0', grad_fn=<MeanBackward0>)\n",
      "Loss: tensor(0.4822, device='cuda:0', grad_fn=<MeanBackward0>)\n",
      "Loss: tensor(0.4663, device='cuda:0', grad_fn=<MeanBackward0>)\n",
      "Loss: tensor(0.4615, device='cuda:0', grad_fn=<MeanBackward0>)\n",
      "Loss: tensor(0.4625, device='cuda:0', grad_fn=<MeanBackward0>)\n",
      "Valid loss: tensor(0.4819, device='cuda:0')\n",
      "Loss: tensor(0.4617, device='cuda:0', grad_fn=<MeanBackward0>)\n",
      "Valid loss: tensor(0.4820, device='cuda:0')\n",
      "Loss: tensor(0.4596, device='cuda:0', grad_fn=<MeanBackward0>)\n",
      "Loss: tensor(0.4607, device='cuda:0', grad_fn=<MeanBackward0>)\n",
      "Loss: tensor(0.4572, device='cuda:0', grad_fn=<MeanBackward0>)\n",
      "Loss: tensor(0.4576, device='cuda:0', grad_fn=<MeanBackward0>)\n",
      "Loss: tensor(0.4564, device='cuda:0', grad_fn=<MeanBackward0>)\n",
      "Loss: tensor(0.4462, device='cuda:0', grad_fn=<MeanBackward0>)\n",
      "Loss: tensor(0.4506, device='cuda:0', grad_fn=<MeanBackward0>)\n",
      "Loss: tensor(0.4561, device='cuda:0', grad_fn=<MeanBackward0>)\n",
      "Loss: tensor(0.4481, device='cuda:0', grad_fn=<MeanBackward0>)\n",
      "Valid loss: tensor(0.4687, device='cuda:0')\n",
      "Loss: tensor(0.4475, device='cuda:0', grad_fn=<MeanBackward0>)\n",
      "Valid loss: tensor(0.4686, device='cuda:0')\n",
      "Loss: tensor(0.4438, device='cuda:0', grad_fn=<MeanBackward0>)\n",
      "Loss: tensor(0.4462, device='cuda:0', grad_fn=<MeanBackward0>)\n",
      "Loss: tensor(0.4395, device='cuda:0', grad_fn=<MeanBackward0>)\n",
      "Loss: tensor(0.4474, device='cuda:0', grad_fn=<MeanBackward0>)\n",
      "Loss: tensor(0.4369, device='cuda:0', grad_fn=<MeanBackward0>)\n",
      "Loss: tensor(0.4351, device='cuda:0', grad_fn=<MeanBackward0>)\n",
      "Loss: tensor(0.4326, device='cuda:0', grad_fn=<MeanBackward0>)\n",
      "Loss: tensor(0.4367, device='cuda:0', grad_fn=<MeanBackward0>)\n",
      "Loss: tensor(0.4293, device='cuda:0', grad_fn=<MeanBackward0>)\n",
      "Valid loss: tensor(0.4519, device='cuda:0')\n",
      "Loss: tensor(0.4362, device='cuda:0', grad_fn=<MeanBackward0>)\n",
      "Valid loss: tensor(0.4518, device='cuda:0')\n",
      "Loss: tensor(0.4255, device='cuda:0', grad_fn=<MeanBackward0>)\n",
      "Loss: tensor(0.4420, device='cuda:0', grad_fn=<MeanBackward0>)\n",
      "Loss: tensor(0.4253, device='cuda:0', grad_fn=<MeanBackward0>)\n",
      "Loss: tensor(0.4286, device='cuda:0', grad_fn=<MeanBackward0>)\n",
      "Loss: tensor(0.4210, device='cuda:0', grad_fn=<MeanBackward0>)\n",
      "Loss: tensor(0.4353, device='cuda:0', grad_fn=<MeanBackward0>)\n",
      "Loss: tensor(0.4198, device='cuda:0', grad_fn=<MeanBackward0>)\n",
      "Loss: tensor(0.4263, device='cuda:0', grad_fn=<MeanBackward0>)\n",
      "Loss: tensor(0.4181, device='cuda:0', grad_fn=<MeanBackward0>)\n",
      "Valid loss: tensor(0.4414, device='cuda:0')\n",
      "Loss: tensor(0.4240, device='cuda:0', grad_fn=<MeanBackward0>)\n",
      "Valid loss: tensor(0.4413, device='cuda:0')\n",
      "Loss: tensor(0.4187, device='cuda:0', grad_fn=<MeanBackward0>)\n",
      "Loss: tensor(0.4053, device='cuda:0', grad_fn=<MeanBackward0>)\n",
      "Loss: tensor(0.4165, device='cuda:0', grad_fn=<MeanBackward0>)\n",
      "Loss: tensor(0.4067, device='cuda:0', grad_fn=<MeanBackward0>)\n",
      "Loss: tensor(0.4148, device='cuda:0', grad_fn=<MeanBackward0>)\n",
      "Loss: tensor(0.4071, device='cuda:0', grad_fn=<MeanBackward0>)\n",
      "Loss: tensor(0.4133, device='cuda:0', grad_fn=<MeanBackward0>)\n",
      "Loss: tensor(0.4089, device='cuda:0', grad_fn=<MeanBackward0>)\n",
      "Loss: tensor(0.4124, device='cuda:0', grad_fn=<MeanBackward0>)\n",
      "Valid loss: tensor(0.4340, device='cuda:0')\n",
      "Loss: tensor(0.4034, device='cuda:0', grad_fn=<MeanBackward0>)\n",
      "Valid loss: tensor(0.4339, device='cuda:0')\n",
      "Loss: tensor(0.4096, device='cuda:0', grad_fn=<MeanBackward0>)\n",
      "Loss: tensor(0.4109, device='cuda:0', grad_fn=<MeanBackward0>)\n",
      "Loss: tensor(0.4094, device='cuda:0', grad_fn=<MeanBackward0>)\n",
      "Loss: tensor(0.4037, device='cuda:0', grad_fn=<MeanBackward0>)\n",
      "Loss: tensor(0.4081, device='cuda:0', grad_fn=<MeanBackward0>)\n",
      "Loss: tensor(0.4041, device='cuda:0', grad_fn=<MeanBackward0>)\n",
      "Loss: tensor(0.4060, device='cuda:0', grad_fn=<MeanBackward0>)\n",
      "Loss: tensor(0.4091, device='cuda:0', grad_fn=<MeanBackward0>)\n",
      "Loss: tensor(0.4056, device='cuda:0', grad_fn=<MeanBackward0>)\n",
      "Valid loss: tensor(0.4285, device='cuda:0')\n",
      "Loss: tensor(0.4054, device='cuda:0', grad_fn=<MeanBackward0>)\n",
      "Valid loss: tensor(0.4285, device='cuda:0')\n",
      "Loss: tensor(0.4057, device='cuda:0', grad_fn=<MeanBackward0>)\n",
      "Loss: tensor(0.3986, device='cuda:0', grad_fn=<MeanBackward0>)\n",
      "Loss: tensor(0.4059, device='cuda:0', grad_fn=<MeanBackward0>)\n",
      "Loss: tensor(0.3916, device='cuda:0', grad_fn=<MeanBackward0>)\n",
      "Loss: tensor(0.4053, device='cuda:0', grad_fn=<MeanBackward0>)\n",
      "Loss: tensor(0.3878, device='cuda:0', grad_fn=<MeanBackward0>)\n",
      "Loss: tensor(0.4018, device='cuda:0', grad_fn=<MeanBackward0>)\n",
      "Loss: tensor(0.4030, device='cuda:0', grad_fn=<MeanBackward0>)\n",
      "Loss: tensor(0.4003, device='cuda:0', grad_fn=<MeanBackward0>)\n",
      "Valid loss: tensor(0.4246, device='cuda:0')\n",
      "Loss: tensor(0.4046, device='cuda:0', grad_fn=<MeanBackward0>)\n",
      "Valid loss: tensor(0.4244, device='cuda:0')\n",
      "Loss: tensor(0.3989, device='cuda:0', grad_fn=<MeanBackward0>)\n",
      "Loss: tensor(0.4050, device='cuda:0', grad_fn=<MeanBackward0>)\n",
      "Loss: tensor(0.3995, device='cuda:0', grad_fn=<MeanBackward0>)\n",
      "Loss: tensor(0.3956, device='cuda:0', grad_fn=<MeanBackward0>)\n",
      "Loss: tensor(0.3992, device='cuda:0', grad_fn=<MeanBackward0>)\n",
      "Loss: tensor(0.3930, device='cuda:0', grad_fn=<MeanBackward0>)\n",
      "Loss: tensor(0.3968, device='cuda:0', grad_fn=<MeanBackward0>)\n",
      "Loss: tensor(0.4010, device='cuda:0', grad_fn=<MeanBackward0>)\n",
      "Loss: tensor(0.3959, device='cuda:0', grad_fn=<MeanBackward0>)\n",
      "Valid loss: tensor(0.4208, device='cuda:0')\n",
      "Loss: tensor(0.4007, device='cuda:0', grad_fn=<MeanBackward0>)\n",
      "Valid loss: tensor(0.4209, device='cuda:0')\n",
      "Loss: tensor(0.3963, device='cuda:0', grad_fn=<MeanBackward0>)\n",
      "Loss: tensor(0.3936, device='cuda:0', grad_fn=<MeanBackward0>)\n",
      "Loss: tensor(0.3954, device='cuda:0', grad_fn=<MeanBackward0>)\n",
      "Loss: tensor(0.3951, device='cuda:0', grad_fn=<MeanBackward0>)\n",
      "Loss: tensor(0.3957, device='cuda:0', grad_fn=<MeanBackward0>)\n",
      "Loss: tensor(0.3889, device='cuda:0', grad_fn=<MeanBackward0>)\n",
      "Loss: tensor(0.3949, device='cuda:0', grad_fn=<MeanBackward0>)\n",
      "Loss: tensor(0.3896, device='cuda:0', grad_fn=<MeanBackward0>)\n",
      "Loss: tensor(0.3930, device='cuda:0', grad_fn=<MeanBackward0>)\n",
      "Valid loss: tensor(0.4182, device='cuda:0')\n",
      "Loss: tensor(0.3965, device='cuda:0', grad_fn=<MeanBackward0>)\n",
      "Valid loss: tensor(0.4181, device='cuda:0')\n",
      "Loss: tensor(0.3921, device='cuda:0', grad_fn=<MeanBackward0>)\n",
      "Loss: tensor(0.3992, device='cuda:0', grad_fn=<MeanBackward0>)\n",
      "Loss: tensor(0.3912, device='cuda:0', grad_fn=<MeanBackward0>)\n",
      "Loss: tensor(0.4006, device='cuda:0', grad_fn=<MeanBackward0>)\n",
      "Loss: tensor(0.3939, device='cuda:0', grad_fn=<MeanBackward0>)\n",
      "Loss: tensor(0.3821, device='cuda:0', grad_fn=<MeanBackward0>)\n",
      "Loss: tensor(0.3918, device='cuda:0', grad_fn=<MeanBackward0>)\n",
      "Loss: tensor(0.3902, device='cuda:0', grad_fn=<MeanBackward0>)\n",
      "Loss: tensor(0.3941, device='cuda:0', grad_fn=<MeanBackward0>)\n",
      "Valid loss: tensor(0.4154, device='cuda:0')\n",
      "Loss: tensor(0.3739, device='cuda:0', grad_fn=<MeanBackward0>)\n",
      "Valid loss: tensor(0.4154, device='cuda:0')\n",
      "Loss: tensor(0.3907, device='cuda:0', grad_fn=<MeanBackward0>)\n",
      "Loss: tensor(0.3911, device='cuda:0', grad_fn=<MeanBackward0>)\n",
      "Loss: tensor(0.3895, device='cuda:0', grad_fn=<MeanBackward0>)\n",
      "Loss: tensor(0.3931, device='cuda:0', grad_fn=<MeanBackward0>)\n",
      "Loss: tensor(0.3892, device='cuda:0', grad_fn=<MeanBackward0>)\n",
      "Loss: tensor(0.3917, device='cuda:0', grad_fn=<MeanBackward0>)\n",
      "Loss: tensor(0.3880, device='cuda:0', grad_fn=<MeanBackward0>)\n",
      "Loss: tensor(0.3951, device='cuda:0', grad_fn=<MeanBackward0>)\n",
      "Loss: tensor(0.3878, device='cuda:0', grad_fn=<MeanBackward0>)\n",
      "Valid loss: tensor(0.4121, device='cuda:0')\n",
      "Loss: tensor(0.3944, device='cuda:0', grad_fn=<MeanBackward0>)\n",
      "Valid loss: tensor(0.4119, device='cuda:0')\n",
      "Loss: tensor(0.3881, device='cuda:0', grad_fn=<MeanBackward0>)\n",
      "Loss: tensor(0.3869, device='cuda:0', grad_fn=<MeanBackward0>)\n",
      "Loss: tensor(0.3854, device='cuda:0', grad_fn=<MeanBackward0>)\n",
      "Loss: tensor(0.3956, device='cuda:0', grad_fn=<MeanBackward0>)\n",
      "Loss: tensor(0.3847, device='cuda:0', grad_fn=<MeanBackward0>)\n",
      "Loss: tensor(0.3912, device='cuda:0', grad_fn=<MeanBackward0>)\n",
      "Loss: tensor(0.3825, device='cuda:0', grad_fn=<MeanBackward0>)\n",
      "Loss: tensor(0.3964, device='cuda:0', grad_fn=<MeanBackward0>)\n",
      "Loss: tensor(0.3817, device='cuda:0', grad_fn=<MeanBackward0>)\n",
      "Valid loss: tensor(0.4038, device='cuda:0')\n",
      "Loss: tensor(0.3935, device='cuda:0', grad_fn=<MeanBackward0>)\n",
      "Valid loss: tensor(0.4038, device='cuda:0')\n",
      "Loss: tensor(0.3835, device='cuda:0', grad_fn=<MeanBackward0>)\n",
      "Loss: tensor(0.3737, device='cuda:0', grad_fn=<MeanBackward0>)\n",
      "Loss: tensor(0.3794, device='cuda:0', grad_fn=<MeanBackward0>)\n",
      "Loss: tensor(0.3890, device='cuda:0', grad_fn=<MeanBackward0>)\n",
      "Loss: tensor(0.3780, device='cuda:0', grad_fn=<MeanBackward0>)\n",
      "Loss: tensor(0.3872, device='cuda:0', grad_fn=<MeanBackward0>)\n",
      "Loss: tensor(0.3762, device='cuda:0', grad_fn=<MeanBackward0>)\n",
      "Loss: tensor(0.3876, device='cuda:0', grad_fn=<MeanBackward0>)\n",
      "Loss: tensor(0.3757, device='cuda:0', grad_fn=<MeanBackward0>)\n",
      "Valid loss: tensor(0.3936, device='cuda:0')\n",
      "Loss: tensor(0.3805, device='cuda:0', grad_fn=<MeanBackward0>)\n",
      "Valid loss: tensor(0.3935, device='cuda:0')\n",
      "Loss: tensor(0.3761, device='cuda:0', grad_fn=<MeanBackward0>)\n",
      "Loss: tensor(0.3692, device='cuda:0', grad_fn=<MeanBackward0>)\n",
      "Loss: tensor(0.3731, device='cuda:0', grad_fn=<MeanBackward0>)\n",
      "Loss: tensor(0.3736, device='cuda:0', grad_fn=<MeanBackward0>)\n",
      "Loss: tensor(0.3713, device='cuda:0', grad_fn=<MeanBackward0>)\n",
      "Loss: tensor(0.3763, device='cuda:0', grad_fn=<MeanBackward0>)\n",
      "Loss: tensor(0.3700, device='cuda:0', grad_fn=<MeanBackward0>)\n",
      "Loss: tensor(0.3750, device='cuda:0', grad_fn=<MeanBackward0>)\n",
      "Loss: tensor(0.3689, device='cuda:0', grad_fn=<MeanBackward0>)\n",
      "Valid loss: tensor(0.3859, device='cuda:0')\n",
      "Loss: tensor(0.3736, device='cuda:0', grad_fn=<MeanBackward0>)\n",
      "Valid loss: tensor(0.3859, device='cuda:0')\n",
      "Loss: tensor(0.3692, device='cuda:0', grad_fn=<MeanBackward0>)\n",
      "Loss: tensor(0.3650, device='cuda:0', grad_fn=<MeanBackward0>)\n",
      "Loss: tensor(0.3682, device='cuda:0', grad_fn=<MeanBackward0>)\n",
      "Loss: tensor(0.3640, device='cuda:0', grad_fn=<MeanBackward0>)\n",
      "Loss: tensor(0.3674, device='cuda:0', grad_fn=<MeanBackward0>)\n",
      "Loss: tensor(0.3623, device='cuda:0', grad_fn=<MeanBackward0>)\n",
      "Loss: tensor(0.3665, device='cuda:0', grad_fn=<MeanBackward0>)\n",
      "Loss: tensor(0.3626, device='cuda:0', grad_fn=<MeanBackward0>)\n"
     ]
    }
   ],
   "source": [
    "N_STEP = 8000\n",
    "\n",
    "train(model, train_set, optim, test_set)\n",
    "torch.save(model.state_dict(), \"../data/pretrained.pcl\")"
   ]
  },
  {
   "cell_type": "code",
   "execution_count": 323,
   "metadata": {},
   "outputs": [
    {
     "name": "stdout",
     "output_type": "stream",
     "text": [
      "Valid loss: tensor(0.3813, device='cuda:0')\n"
     ]
    }
   ],
   "source": [
    "valid(model, test_set)\n",
    "valid_it = iter(valid_set)"
   ]
  },
  {
   "cell_type": "code",
   "execution_count": 324,
   "metadata": {},
   "outputs": [],
   "source": [
    "batch, timeseries, labels = next(valid_it)\n",
    "timeseries = timeseries.numpy()"
   ]
  },
  {
   "cell_type": "code",
   "execution_count": 325,
   "metadata": {},
   "outputs": [
    {
     "data": {
      "text/plain": [
       "(400, 18, 5)"
      ]
     },
     "execution_count": 325,
     "metadata": {},
     "output_type": "execute_result"
    }
   ],
   "source": [
    "hiddens.shape"
   ]
  },
  {
   "cell_type": "code",
   "execution_count": 326,
   "metadata": {},
   "outputs": [],
   "source": [
    "id0 = 5\n",
    "id1 = 5\n",
    "\n",
    "x_out = model(batch.permute(1, 0, 2)).permute(1, 0, 2).cpu().detach().numpy()"
   ]
  },
  {
   "cell_type": "code",
   "execution_count": 327,
   "metadata": {},
   "outputs": [
    {
     "data": {
      "text/plain": [
       "[<matplotlib.lines.Line2D at 0x1b931584b48>]"
      ]
     },
     "execution_count": 327,
     "metadata": {},
     "output_type": "execute_result"
    },
    {
     "data": {
      "image/png": "[encoded data removed]",
      "text/plain": [
       "<Figure size 432x288 with 1 Axes>"
      ]
     },
     "metadata": {
      "needs_background": "light"
     },
     "output_type": "display_data"
    }
   ],
   "source": [
    "plt.plot(batch[id0, id1].cpu())"
   ]
  },
  {
   "cell_type": "code",
   "execution_count": 328,
   "metadata": {},
   "outputs": [
    {
     "data": {
      "text/plain": [
       "[<matplotlib.lines.Line2D at 0x1b88b8140c8>]"
      ]
     },
     "execution_count": 328,
     "metadata": {},
     "output_type": "execute_result"
    },
    {
     "data": {
      "image/png": "[encoded data removed]",
      "text/plain": [
       "<Figure size 432x288 with 1 Axes>"
      ]
     },
     "metadata": {
      "needs_background": "light"
     },
     "output_type": "display_data"
    }
   ],
   "source": [
    "plt.plot(x_out[id0, id1])"
   ]
  },
  {
   "cell_type": "code",
   "execution_count": 329,
   "metadata": {},
   "outputs": [],
   "source": [
    "def m(id1, id2, matrix):\n",
    "    x, y = int(min(id1[0], id2[0])), int(max(id1[0], id2[0]))\n",
    "    return matrix[x, y]\n",
    "\n",
    "def get_metric(matrix):\n",
    "    return lambda id1, id2: m(id1, id2, matrix)"
   ]
  },
  {
   "cell_type": "code",
   "execution_count": 357,
   "metadata": {},
   "outputs": [],
   "source": [
    "idxs = np.arange(len(timeseries)).reshape(-1, 1)\n",
    "X_train, X_test, y_train, y_test = train_test_split(idxs, labels.cpu().numpy(), test_size=0.3)"
   ]
  },
  {
   "cell_type": "code",
   "execution_count": 344,
   "metadata": {},
   "outputs": [],
   "source": [
    "from sklearn.neighbors import KNeighborsClassifier"
   ]
  },
  {
   "cell_type": "markdown",
   "metadata": {},
   "source": [
    "## Classification on raw time-series"
   ]
  },
  {
   "cell_type": "code",
   "execution_count": 332,
   "metadata": {},
   "outputs": [
    {
     "name": "stdout",
     "output_type": "stream",
     "text": [
      "Wall time: 28min 18s\n"
     ]
    }
   ],
   "source": [
    "%%time\n",
    "matrix_ts = dtw.distance_matrix(timeseries, use_c=True)"
   ]
  },
  {
   "cell_type": "code",
   "execution_count": 358,
   "metadata": {},
   "outputs": [
    {
     "data": {
      "text/plain": [
       "0.75"
      ]
     },
     "execution_count": 358,
     "metadata": {},
     "output_type": "execute_result"
    }
   ],
   "source": [
    "clf = KNeighborsClassifier(metric=get_metric(matrix_ts), algorithm=\"brute\")\n",
    "clf.fit(X_train, y_train)\n",
    "score = clf.score(X_test, y_test)\n",
    "score"
   ]
  },
  {
   "cell_type": "markdown",
   "metadata": {},
   "source": [
    "## Hidden states classification"
   ]
  },
  {
   "cell_type": "code",
   "execution_count": 334,
   "metadata": {},
   "outputs": [
    {
     "name": "stdout",
     "output_type": "stream",
     "text": [
      "Wall time: 7min 2s\n"
     ]
    }
   ],
   "source": [
    "%%time\n",
    "hiddens = model.encoder(batch.permute(1, 0, 2))[0].permute(1, 0, 2).detach().cpu().numpy()\n",
    "matrix_hidden = dtw_ndim.distance_matrix(hiddens)"
   ]
  },
  {
   "cell_type": "code",
   "execution_count": 360,
   "metadata": {},
   "outputs": [
    {
     "data": {
      "text/plain": [
       "0.6583333333333333"
      ]
     },
     "execution_count": 360,
     "metadata": {},
     "output_type": "execute_result"
    }
   ],
   "source": [
    "clf = KNeighborsClassifier(metric=get_metric(matrix_hidden), algorithm=\"brute\")\n",
    "clf.fit(X_train, y_train)\n",
    "score = clf.score(X_test, y_test)\n",
    "score"
   ]
  },
  {
   "cell_type": "code",
   "execution_count": null,
   "metadata": {},
   "outputs": [],
   "source": [
    "scores_ts = []\n",
    "scores_hidden = []\n",
    "\n",
    "for i in range(1000):\n",
    "    X_train, X_test, y_train, y_test = train_test_split(idxs, labels.cpu().numpy(), test_size=0.3)\n",
    "\n",
    "    clf = KNeighborsClassifier(metric=get_metric(matrix_ts), algorithm=\"brute\")\n",
    "    clf.fit(X_train, y_train)\n",
    "    score = clf.score(X_test, y_test)\n",
    "    scores_ts.append(score)\n",
    "    clf = KNeighborsClassifier(metric=get_metric(matrix_hidden), algorithm=\"brute\")\n",
    "    clf.fit(X_train, y_train)\n",
    "    score = clf.score(X_test, y_test)\n",
    "    scores_hidden.append(score)\n",
    "    \n",
    "print(\"{:.3f}\".format(np.mean(scores_ts)))    \n",
    "print(\"{:.3f}\".format(np.mean(scores_hidden)))"
   ]
  },
  {
   "cell_type": "code",
   "execution_count": null,
   "metadata": {},
   "outputs": [],
   "source": []
  }
 ],
 "metadata": {
  "kernelspec": {
   "display_name": "hidden_dtw",
   "language": "python",
   "name": "hidden_dtw"
  },
  "language_info": {
   "codemirror_mode": {
    "name": "ipython",
    "version": 3
   },
   "file_extension": ".py",
   "mimetype": "text/x-python",
   "name": "python",
   "nbconvert_exporter": "python",
   "pygments_lexer": "ipython3",
   "version": "3.7.5"
  }
 },
 "nbformat": 4,
 "nbformat_minor": 4
}
