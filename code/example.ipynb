{
 "cells": [
  {
   "cell_type": "code",
   "execution_count": 107,
   "metadata": {},
   "outputs": [],
   "source": [
    "import numpy as np\n",
    "import pandas as pd\n",
    "import matplotlib.pyplot as plt\n",
    "import torch\n",
    "\n",
    "from dtaidistance import dtw, dtw_c, dtw_ndim\n",
    "from numpy.random import choice, shuffle\n",
    "from torch import nn\n",
    "from sklearn.model_selection import train_test_split\n",
    "from scipy.stats import zscore"
   ]
  },
  {
   "cell_type": "code",
   "execution_count": 108,
   "metadata": {},
   "outputs": [
    {
     "name": "stdout",
     "output_type": "stream",
     "text": [
      "The autoreload extension is already loaded. To reload it, use:\n",
      "  %reload_ext autoreload\n"
     ]
    }
   ],
   "source": [
    "%load_ext autoreload\n",
    "%autoreload 1\n",
    "\n",
    "from preprocessing import *\n",
    "from models import Encoder, Decoder, Sequence2Sequence\n",
    "\n",
    "%aimport preprocessing\n",
    "%aimport models"
   ]
  },
  {
   "cell_type": "markdown",
   "metadata": {},
   "source": [
    "# Example of multidimensional time-series"
   ]
  },
  {
   "cell_type": "code",
   "execution_count": 109,
   "metadata": {},
   "outputs": [],
   "source": [
    "# !mkdir -p data\n",
    "# !wget https://www.cs.ucr.edu/%7Eeamonn/time_series_data_2018/UCRArchive_2018.zip ../data\n",
    "# !unzip data/UCRArchive_2018.zip -d ../data"
   ]
  },
  {
   "cell_type": "code",
   "execution_count": 110,
   "metadata": {},
   "outputs": [],
   "source": [
    "# data_path = \"../data/UCRArchive_2018/Earthquakes/Earthquakes_TRAIN.tsv\""
   ]
  },
  {
   "cell_type": "code",
   "execution_count": 111,
   "metadata": {},
   "outputs": [],
   "source": [
    "# data = pd.read_csv(data_path, header=None, delimiter=\"\\t\").values\n",
    "\n",
    "# # to remove Nan (only first columns)\n",
    "# data = data[:, ~np.isnan(data).any(0)]\n",
    "\n",
    "# X = data[:, 1:]\n",
    "# y = data[:, 0].astype(np.short)"
   ]
  },
  {
   "cell_type": "markdown",
   "metadata": {},
   "source": [
    "# Accelerometer dataset \n",
    "\n",
    "- 1: Working at Computer\n",
    "- 2: Standing Up, Walking and Going up\\down stairs\n",
    "- 3: Standing\n",
    "- 4: Walking\n",
    "- 5: Going Up\\Down Stairs\n",
    "- 6: Walking and Talking with Someone\n",
    "- 7: Talking while Standing"
   ]
  },
  {
   "cell_type": "code",
   "execution_count": 112,
   "metadata": {},
   "outputs": [],
   "source": [
    "# !wget https://archive.ics.uci.edu/ml/machine-learning-databases/00287/Activity%20Recognition%20from%20Single%20Chest-Mounted%20Accelerometer.zip -O ../data/Accelerometer.zip\n",
    "# ! unzip ../data/Accelerometer.zip -d ./data"
   ]
  },
  {
   "cell_type": "code",
   "execution_count": 113,
   "metadata": {},
   "outputs": [],
   "source": [
    "from torch.utils.data import DataLoader, TensorDataset, random_split\n",
    "\n",
    "def train_test_valid_split(dataset: TensorDataset, test_size: float, valid_size: float):\n",
    "    test_size = int(len(dataset) * test_size)\n",
    "    valid_size = int(len(dataset) * valid_size)\n",
    "    train_size = len(dataset) - test_size - valid_size\n",
    "    assert train_size > 0, \"Invalid size of train set\"\n",
    "    assert len(dataset) == test_size + valid_size + train_size, \"Invalid sum of sizes\"\n",
    "    \n",
    "    return random_split(dataset, [train_size, test_size, valid_size])"
   ]
  },
  {
   "cell_type": "code",
   "execution_count": 114,
   "metadata": {},
   "outputs": [],
   "source": [
    "CHANNELS = ['0', '1', '2']\n",
    "LABELS = [1, 4, 5, 6]\n",
    "LENGTH = 100\n",
    "start_ident = 200\n",
    "\n",
    "sample_size = 200\n",
    "device = torch.device(\"cuda\")\n",
    "\n",
    "w = 4\n",
    "k = 10"
   ]
  },
  {
   "cell_type": "code",
   "execution_count": 115,
   "metadata": {},
   "outputs": [],
   "source": [
    "np.random.seed(0)\n",
    "\n",
    "\n",
    "dataset = {label: [] for label in LABELS}\n",
    "\n",
    "for i in range(1, 11):\n",
    "    data_path = \"../data/Activity Recognition from Single Chest-Mounted Accelerometer/{0}.csv\".format(i)\n",
    "    data = pd.read_csv(data_path,\n",
    "                   names=['0', '1', '2', \"labels\"],\n",
    "                   index_col=0,\n",
    "                   dtype=np.float)\n",
    "    \n",
    "    for label in LABELS:\n",
    "        X = get_class_timeseries(label, data, start_ident)\n",
    "        X = np.linalg.norm(X, axis=1)[np.newaxis].T\n",
    "        dataset[label].extend(slice_timeseries(X, LENGTH))\n",
    "    \n",
    "max_count = min([len(x) for x in dataset.values()])\n",
    "for label, ts in dataset.items():\n",
    "    dataset[label] = [ts[idx] for idx in choice(range(len(ts)), max_count, replace=False)]\n",
    "    \n",
    "X = np.array([zscore(x) for _, ts in dataset.items() for x in ts])\n",
    "y = [np.repeat(label, len(ts)) for label, ts in dataset.items()]\n",
    "X = np.hstack(X).T\n",
    "y = np.hstack(y).T\n",
    "\n",
    "# X = [split_to_sequence(x, k, w) for x in X]"
   ]
  },
  {
   "cell_type": "code",
   "execution_count": null,
   "metadata": {},
   "outputs": [],
   "source": []
  },
  {
   "cell_type": "code",
   "execution_count": 116,
   "metadata": {},
   "outputs": [],
   "source": [
    "ds = SplittedDataset(X, y, k, w, device=device)\n",
    "train_ds, test_ds, valid_ds = train_test_valid_split(ds, 0.4, 0.1)\n",
    "\n",
    "train_set = DataLoader(train_ds, batch_size=1024, shuffle=True)\n",
    "test_set = DataLoader(test_ds, batch_size=1024, shuffle=True)\n",
    "valid_set = DataLoader(valid_ds, batch_size=24, shuffle=True)"
   ]
  },
  {
   "cell_type": "code",
   "execution_count": 117,
   "metadata": {},
   "outputs": [],
   "source": [
    "from models import Encoder, Decoder, Sequence2Sequence\n",
    "\n",
    "input_dim = 2*k\n",
    "hidden_dim = 5\n",
    "n_layers = 1\n",
    "\n",
    "enc = Encoder(input_dim, hidden_dim, 1, n_layers)\n",
    "dec = Decoder(hidden_dim, input_dim, 1, n_layers)"
   ]
  },
  {
   "cell_type": "code",
   "execution_count": 118,
   "metadata": {},
   "outputs": [
    {
     "data": {
      "text/plain": [
       "Sequence2Sequence(\n",
       "  (encoder): Encoder(\n",
       "    (lstm): LSTM(20, 5)\n",
       "  )\n",
       "  (decoder): Decoder(\n",
       "    (lstm): LSTM(5, 20)\n",
       "  )\n",
       ")"
      ]
     },
     "execution_count": 118,
     "metadata": {},
     "output_type": "execute_result"
    }
   ],
   "source": [
    "model = Sequence2Sequence(enc, dec)\n",
    "model.to(device)"
   ]
  },
  {
   "cell_type": "code",
   "execution_count": 119,
   "metadata": {},
   "outputs": [],
   "source": [
    "loss_fn = nn.MSELoss()\n",
    "optim = torch.optim.Adam(model.parameters())"
   ]
  },
  {
   "cell_type": "code",
   "execution_count": 120,
   "metadata": {},
   "outputs": [],
   "source": [
    "N_STEP = 1000\n",
    "\n",
    "def train(model, train_ds, optim, valid_ds):\n",
    "    model.train()\n",
    "    for step in range(N_STEP):\n",
    "        it = iter(train_ds)\n",
    "        for batch, _, _ in it:\n",
    "            batch = batch.permute(1, 0, 2)\n",
    "            optim.zero_grad()\n",
    "            out = model(batch)\n",
    "            loss = loss_fn(batch, out)\n",
    "\n",
    "            if step % 100 == 0:\n",
    "                print(\"Loss:\", loss)\n",
    "\n",
    "            loss.backward()\n",
    "            optim.step()\n",
    "\n",
    "            if step % 500 == 0:\n",
    "                valid(model, valid_ds)\n",
    "                model.train()\n",
    "\n",
    "def valid(model, valid_ds):\n",
    "    model.eval()\n",
    "    loss = 0.\n",
    "    it = iter(valid_ds)\n",
    "    for batch, _, _ in it:\n",
    "        batch = batch.permute(1, 0, 2)\n",
    "        out = model(batch)\n",
    "        loss += loss_fn(batch, out)\n",
    "    \n",
    "    print(\"Valid loss:\", loss)"
   ]
  },
  {
   "cell_type": "code",
   "execution_count": 134,
   "metadata": {},
   "outputs": [
    {
     "name": "stdout",
     "output_type": "stream",
     "text": [
      "Loss: tensor(0.3084, device='cuda:0', grad_fn=<MeanBackward0>)\n",
      "Valid loss: tensor(0.3207, device='cuda:0', grad_fn=<AddBackward0>)\n",
      "Loss: tensor(0.3074, device='cuda:0', grad_fn=<MeanBackward0>)\n",
      "Loss: tensor(0.3065, device='cuda:0', grad_fn=<MeanBackward0>)\n",
      "Loss: tensor(0.3056, device='cuda:0', grad_fn=<MeanBackward0>)\n",
      "Loss: tensor(0.3048, device='cuda:0', grad_fn=<MeanBackward0>)\n",
      "Loss: tensor(0.3041, device='cuda:0', grad_fn=<MeanBackward0>)\n",
      "Valid loss: tensor(0.3166, device='cuda:0', grad_fn=<AddBackward0>)\n",
      "Loss: tensor(0.3034, device='cuda:0', grad_fn=<MeanBackward0>)\n",
      "Loss: tensor(0.3028, device='cuda:0', grad_fn=<MeanBackward0>)\n",
      "Loss: tensor(0.3022, device='cuda:0', grad_fn=<MeanBackward0>)\n",
      "Loss: tensor(0.3017, device='cuda:0', grad_fn=<MeanBackward0>)\n",
      "Loss: tensor(0.3011, device='cuda:0', grad_fn=<MeanBackward0>)\n",
      "Valid loss: tensor(0.3138, device='cuda:0', grad_fn=<AddBackward0>)\n",
      "Loss: tensor(0.3006, device='cuda:0', grad_fn=<MeanBackward0>)\n",
      "Loss: tensor(0.3002, device='cuda:0', grad_fn=<MeanBackward0>)\n",
      "Loss: tensor(0.2997, device='cuda:0', grad_fn=<MeanBackward0>)\n",
      "Loss: tensor(0.2993, device='cuda:0', grad_fn=<MeanBackward0>)\n",
      "Loss: tensor(0.2989, device='cuda:0', grad_fn=<MeanBackward0>)\n",
      "Valid loss: tensor(0.3118, device='cuda:0', grad_fn=<AddBackward0>)\n",
      "Loss: tensor(0.2986, device='cuda:0', grad_fn=<MeanBackward0>)\n",
      "Loss: tensor(0.2982, device='cuda:0', grad_fn=<MeanBackward0>)\n",
      "Loss: tensor(0.2978, device='cuda:0', grad_fn=<MeanBackward0>)\n",
      "Loss: tensor(0.2975, device='cuda:0', grad_fn=<MeanBackward0>)\n",
      "Loss: tensor(0.2972, device='cuda:0', grad_fn=<MeanBackward0>)\n",
      "Valid loss: tensor(0.3103, device='cuda:0', grad_fn=<AddBackward0>)\n",
      "Loss: tensor(0.2969, device='cuda:0', grad_fn=<MeanBackward0>)\n",
      "Loss: tensor(0.2966, device='cuda:0', grad_fn=<MeanBackward0>)\n",
      "Loss: tensor(0.2964, device='cuda:0', grad_fn=<MeanBackward0>)\n",
      "Loss: tensor(0.2961, device='cuda:0', grad_fn=<MeanBackward0>)\n",
      "Loss: tensor(0.2958, device='cuda:0', grad_fn=<MeanBackward0>)\n",
      "Valid loss: tensor(0.3091, device='cuda:0', grad_fn=<AddBackward0>)\n",
      "Loss: tensor(0.2956, device='cuda:0', grad_fn=<MeanBackward0>)\n",
      "Loss: tensor(0.2954, device='cuda:0', grad_fn=<MeanBackward0>)\n",
      "Loss: tensor(0.2951, device='cuda:0', grad_fn=<MeanBackward0>)\n",
      "Loss: tensor(0.2949, device='cuda:0', grad_fn=<MeanBackward0>)\n"
     ]
    }
   ],
   "source": [
    "N_STEP = 3000\n",
    "\n",
    "train(model, train_set, optim, test_set)"
   ]
  },
  {
   "cell_type": "code",
   "execution_count": 135,
   "metadata": {},
   "outputs": [],
   "source": [
    "torch.save(model.state_dict(), \"../data/pretrained.pcl\")"
   ]
  },
  {
   "cell_type": "code",
   "execution_count": 122,
   "metadata": {},
   "outputs": [],
   "source": [
    "valid_it = iter(valid_set)\n",
    "batch, timeseries, labels = next(valid_it)"
   ]
  },
  {
   "cell_type": "code",
   "execution_count": 123,
   "metadata": {},
   "outputs": [],
   "source": [
    "id0 = 10\n",
    "id1 = 5\n",
    "\n",
    "x_out = model(batch).cpu().detach().numpy()"
   ]
  },
  {
   "cell_type": "code",
   "execution_count": 124,
   "metadata": {},
   "outputs": [
    {
     "data": {
      "text/plain": [
       "[<matplotlib.lines.Line2D at 0x1d09d6ac1c8>]"
      ]
     },
     "execution_count": 124,
     "metadata": {},
     "output_type": "execute_result"
    },
    {
     "data": {
      "image/png": "[encoded data removed]",
      "text/plain": [
       "<Figure size 432x288 with 1 Axes>"
      ]
     },
     "metadata": {
      "needs_background": "light"
     },
     "output_type": "display_data"
    }
   ],
   "source": [
    "plt.plot(batch[id0, id1].cpu())"
   ]
  },
  {
   "cell_type": "code",
   "execution_count": 125,
   "metadata": {},
   "outputs": [
    {
     "data": {
      "text/plain": [
       "[<matplotlib.lines.Line2D at 0x1d09d6610c8>]"
      ]
     },
     "execution_count": 125,
     "metadata": {},
     "output_type": "execute_result"
    },
    {
     "data": {
      "image/png": "[encoded data removed]",
      "text/plain": [
       "<Figure size 432x288 with 1 Axes>"
      ]
     },
     "metadata": {
      "needs_background": "light"
     },
     "output_type": "display_data"
    }
   ],
   "source": [
    "plt.plot(x_out[id0, id1])"
   ]
  },
  {
   "cell_type": "code",
   "execution_count": 136,
   "metadata": {},
   "outputs": [
    {
     "data": {
      "text/plain": [
       "(24, 100)"
      ]
     },
     "execution_count": 136,
     "metadata": {},
     "output_type": "execute_result"
    }
   ],
   "source": [
    "timeseries.numpy().shape"
   ]
  },
  {
   "cell_type": "code",
   "execution_count": 137,
   "metadata": {},
   "outputs": [
    {
     "data": {
      "text/plain": [
       "3.2670165991451214"
      ]
     },
     "execution_count": 137,
     "metadata": {},
     "output_type": "execute_result"
    }
   ],
   "source": [
    "dtw_ndim.distance(x1[0], x1[1])"
   ]
  },
  {
   "cell_type": "code",
   "execution_count": 138,
   "metadata": {},
   "outputs": [
    {
     "data": {
      "text/plain": [
       "3.2670165991451214"
      ]
     },
     "execution_count": 138,
     "metadata": {},
     "output_type": "execute_result"
    }
   ],
   "source": [
    "dtw_ndim.distance(x1[0], x1[1])"
   ]
  },
  {
   "cell_type": "code",
   "execution_count": 143,
   "metadata": {},
   "outputs": [],
   "source": [
    "matrix_ts = dtw.distance_matrix(timeseries)"
   ]
  },
  {
   "cell_type": "code",
   "execution_count": 141,
   "metadata": {},
   "outputs": [],
   "source": [
    "matrix_hidden = dtw_ndim.distance_matrix(x_out)"
   ]
  },
  {
   "cell_type": "code",
   "execution_count": 142,
   "metadata": {},
   "outputs": [
    {
     "data": {
      "text/plain": [
       "(24, 24)"
      ]
     },
     "execution_count": 142,
     "metadata": {},
     "output_type": "execute_result"
    }
   ],
   "source": [
    "matrix_hidden.shape"
   ]
  },
  {
   "cell_type": "code",
   "execution_count": 144,
   "metadata": {},
   "outputs": [
    {
     "data": {
      "text/plain": [
       "(24, 24)"
      ]
     },
     "execution_count": 144,
     "metadata": {},
     "output_type": "execute_result"
    }
   ],
   "source": [
    "matrix_ts.shape"
   ]
  }
 ],
 "metadata": {
  "kernelspec": {
   "display_name": "hidden_dtw",
   "language": "python",
   "name": "hidden_dtw"
  },
  "language_info": {
   "codemirror_mode": {
    "name": "ipython",
    "version": 3
   },
   "file_extension": ".py",
   "mimetype": "text/x-python",
   "name": "python",
   "nbconvert_exporter": "python",
   "pygments_lexer": "ipython3",
   "version": "3.7.5"
  }
 },
 "nbformat": 4,
 "nbformat_minor": 4
}
