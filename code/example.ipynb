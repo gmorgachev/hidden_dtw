{
 "cells": [
  {
   "cell_type": "code",
   "execution_count": 1,
   "metadata": {},
   "outputs": [],
   "source": [
    "import numpy as np\n",
    "import pandas as pd\n",
    "import matplotlib.pyplot as plt\n",
    "\n",
    "from dtaidistance import dtw, dtw_c, dtw_ndim\n",
    "from numpy.random import choice, shuffle"
   ]
  },
  {
   "cell_type": "code",
   "execution_count": 2,
   "metadata": {},
   "outputs": [],
   "source": [
    "from preprocessing import *"
   ]
  },
  {
   "cell_type": "markdown",
   "metadata": {},
   "source": [
    "# Example of multidimensional time-series"
   ]
  },
  {
   "cell_type": "code",
   "execution_count": null,
   "metadata": {},
   "outputs": [],
   "source": [
    "# !mkdir -p data\n",
    "# !wget https://www.cs.ucr.edu/%7Eeamonn/time_series_data_2018/UCRArchive_2018.zip ../data\n",
    "# !unzip data/UCRArchive_2018.zip -d ../data"
   ]
  },
  {
   "cell_type": "code",
   "execution_count": 3,
   "metadata": {},
   "outputs": [],
   "source": [
    "data_path = \"../data/UCRArchive_2018/Earthquakes/Earthquakes_TRAIN.tsv\""
   ]
  },
  {
   "cell_type": "code",
   "execution_count": null,
   "metadata": {},
   "outputs": [],
   "source": [
    "data = pd.read_csv(data_path, header=None, delimiter=\"\\t\").values\n",
    "\n",
    "# to remove Nan (only first columns)\n",
    "data = data[:, ~np.isnan(data).any(0)]\n",
    "\n",
    "X = data[:, 1:]\n",
    "y = data[:, 0].astype(np.short)"
   ]
  },
  {
   "cell_type": "code",
   "execution_count": null,
   "metadata": {},
   "outputs": [],
   "source": [
    "data"
   ]
  },
  {
   "cell_type": "code",
   "execution_count": null,
   "metadata": {},
   "outputs": [],
   "source": [
    "plt.plot(X[9])"
   ]
  },
  {
   "cell_type": "code",
   "execution_count": null,
   "metadata": {},
   "outputs": [],
   "source": []
  },
  {
   "cell_type": "markdown",
   "metadata": {},
   "source": [
    "# Accelerometer dataset \n",
    "\n",
    "- 1: Working at Computer\n",
    "- 2: Standing Up, Walking and Going up\\down stairs\n",
    "- 3: Standing\n",
    "- 4: Walking\n",
    "- 5: Going Up\\Down Stairs\n",
    "- 6: Walking and Talking with Someone\n",
    "- 7: Talking while Standing"
   ]
  },
  {
   "cell_type": "code",
   "execution_count": 184,
   "metadata": {},
   "outputs": [],
   "source": [
    "# !wget https://archive.ics.uci.edu/ml/machine-learning-databases/00287/Activity%20Recognition%20from%20Single%20Chest-Mounted%20Accelerometer.zip -O ../data/Accelerometer.zip\n",
    "# ! unzip ../data/Accelerometer.zip -d ./data"
   ]
  },
  {
   "cell_type": "code",
   "execution_count": 4,
   "metadata": {},
   "outputs": [],
   "source": [
    "data_path = \"../data/Activity Recognition from Single Chest-Mounted Accelerometer/1.csv\"\n",
    "CHANNELS = ['0', '1', '2']\n",
    "LABELS = [1, 4, 5, 6]\n",
    "LENGTH = 50\n",
    "start_ident = 200"
   ]
  },
  {
   "cell_type": "code",
   "execution_count": 5,
   "metadata": {},
   "outputs": [],
   "source": [
    "data = pd.read_csv(data_path,\n",
    "                   names=['0', '1', '2', \"labels\"],\n",
    "                   index_col=0,\n",
    "                   dtype=np.float)"
   ]
  },
  {
   "cell_type": "code",
   "execution_count": 6,
   "metadata": {},
   "outputs": [],
   "source": [
    "np.random.seed(0)\n",
    "\n",
    "dataset = {}\n",
    "for label in LABELS:\n",
    "    X = get_class_timeseries(label, data, start_ident)\n",
    "    X = np.linalg.norm(X, axis=1)[np.newaxis].T\n",
    "    dataset[label] = slice_timeseries(X, LENGTH, count=45)\n",
    "    \n",
    "\n",
    "X = [x for _, ts in dataset.items() for x in ts]\n",
    "y = [np.repeat(label, ts.shape[0]) for label, ts in dataset.items() for x in ts]\n",
    "X = np.hstack(X).T\n",
    "y = np.hstack(y).T\n",
    "\n",
    "idxs = list(range(X.shape[0]))\n",
    "shuffle(idxs)\n",
    "\n",
    "X = X[idxs]\n",
    "y = y[idxs]"
   ]
  },
  {
   "cell_type": "code",
   "execution_count": null,
   "metadata": {},
   "outputs": [],
   "source": [
    "plt.plot()"
   ]
  },
  {
   "cell_type": "code",
   "execution_count": null,
   "metadata": {},
   "outputs": [],
   "source": [
    "import to"
   ]
  }
 ],
 "metadata": {
  "kernelspec": {
   "display_name": "dtw",
   "language": "python",
   "name": "dtw"
  },
  "language_info": {
   "codemirror_mode": {
    "name": "ipython",
    "version": 3
   },
   "file_extension": ".py",
   "mimetype": "text/x-python",
   "name": "python",
   "nbconvert_exporter": "python",
   "pygments_lexer": "ipython3",
   "version": "3.7.5"
  }
 },
 "nbformat": 4,
 "nbformat_minor": 4
}
